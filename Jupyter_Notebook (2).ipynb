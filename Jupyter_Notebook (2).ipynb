{
  "metadata": {
    "kernelspec": {
      "name": "python",
      "display_name": "Pyolite",
      "language": "python"
    },
    "language_info": {
      "codemirror_mode": {
        "name": "python",
        "version": 3
      },
      "file_extension": ".py",
      "mimetype": "text/x-python",
      "name": "python",
      "nbconvert_exporter": "python",
      "pygments_lexer": "ipython3",
      "version": "3.8"
    }
  },
  "nbformat_minor": 4,
  "nbformat": 4,
  "cells": [
    {
      "cell_type": "markdown",
      "source": "<center>\n    <img src=\"https://cf-courses-data.s3.us.cloud-object-storage.appdomain.cloud/IBMDeveloperSkillsNetwork-DS0105EN-SkillsNetwork/labs/Module2/images/SN_web_lightmode.png\" width=\"300\" alt=\"cognitiveclass.ai logo\"  />\n</center>\n",
      "metadata": {}
    },
    {
      "cell_type": "markdown",
      "source": "#### Add your code below following the instructions given in the course\n",
      "metadata": {}
    },
    {
      "cell_type": "markdown",
      "source": "<html>\n    <head>\n     <body>\n         <h1>My Jupyter Notebook on IBM Watson Studi</h1>\n        </body>\n    </head>\n    </html>",
      "metadata": {}
    },
    {
      "cell_type": "markdown",
      "source": "<html>\n    <head>\n        <body>\n            <p><b> Naga swathi Pilli </b></p>\n            <p> Data Scientist </p>\n        </body>\n    </head>\n    </html>",
      "metadata": {}
    },
    {
      "cell_type": "markdown",
      "source": "<html>\n    <head>\n        <body>\n            <p><i>\"Data science can add value to any business that can use its data well.That further helps companies make better strategic decisions.It is also a well-paid job.\"</i></p>\n        </body>\n    </head>\n    </html>",
      "metadata": {}
    },
    {
      "cell_type": "markdown",
      "source": "<html>\n    <head>\n        <body>\n            <p><h3>The code below is sum of two numbers</h3></p>\n                </body>\n                    </html>\n    \n            ",
      "metadata": {}
    },
    {
      "cell_type": "code",
      "source": "x = 5\ny = 7\n\nsum = x+y\n\nprint(\"The sum is: \", sum)",
      "metadata": {
        "trusted": true
      },
      "execution_count": 3,
      "outputs": [
        {
          "name": "stdout",
          "text": "The sum is:  12\n",
          "output_type": "stream"
        }
      ]
    },
    {
      "cell_type": "code",
      "source": "<html>\n<body>\n<table>\n        <tr>\n        <th>Name</th>\n        <th>place</th>\n        <th>Animal</th>\n        <th>Thing</th>\n        </tr>\n        <tr>\n        <td>Raji</td>\n        <td>rajasthan</td>\n        <td>rabbit</td>\n        <td>Roller</td>\n        </tr>\n</table>\n            <ol>\n            <li>Apple</li>\n            <li>Grapes</li>\n            <li>Strawberry</li>\n            </ol>\n            <p>For datascience tutorial use below link</p>\n            <p><a href =\"https://www.w3schools.com/datascience/\">Data Science Tutorial</a></p>\n            </body>\n            </html>\n",
      "metadata": {
        "trusted": true
      },
      "execution_count": 7,
      "outputs": [
        {
          "ename": "<class 'SyntaxError'>",
          "evalue": "invalid syntax (<ipython-input-7-0e63f210929d>, line 1)",
          "traceback": [
            "\u001b[0;36m  Cell \u001b[0;32mIn[7], line 1\u001b[0;36m\u001b[0m\n\u001b[0;31m    <html>\u001b[0m\n\u001b[0m    ^\u001b[0m\n\u001b[0;31mSyntaxError\u001b[0m\u001b[0;31m:\u001b[0m invalid syntax\n"
          ],
          "output_type": "error"
        }
      ]
    },
    {
      "cell_type": "code",
      "source": "",
      "metadata": {},
      "execution_count": null,
      "outputs": []
    }
  ]
}